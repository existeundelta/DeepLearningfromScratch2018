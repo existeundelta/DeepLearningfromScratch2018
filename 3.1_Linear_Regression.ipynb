{
  "nbformat": 4,
  "nbformat_minor": 0,
  "metadata": {
    "colab": {
      "name": "3.1%20Linear%20Regression.ipynb",
      "version": "0.3.2",
      "views": {},
      "default_view": {},
      "provenance": []
    },
    "kernelspec": {
      "display_name": "Python 2",
      "language": "python",
      "name": "python2"
    }
  },
  "cells": [
    {
      "metadata": {
        "id": "L_CkNf-yMWIz",
        "colab_type": "text"
      },
      "cell_type": "markdown",
      "source": [
        "# A linear regression learning algorithm example using TensorFlow library."
      ]
    },
    {
      "metadata": {
        "id": "ssIuhJ9bMWI0",
        "colab_type": "text"
      },
      "cell_type": "markdown",
      "source": [
        "Linear regression model is one of the simplest regression models. It assumes linear relationship between X and Y. The output equation is defined as follows:\n",
        "$$\\hat{y} = WX + b$$\n"
      ]
    },
    {
      "metadata": {
        "id": "7HlKSkOWMWI0",
        "colab_type": "code",
        "colab": {
          "autoexec": {
            "startup": false,
            "wait_interval": 0
          },
          "base_uri": "https://localhost:8080/",
          "height": 17
        },
        "outputId": "22f5eed6-7183-48b0-b373-a129ad8526d3",
        "executionInfo": {
          "status": "ok",
          "timestamp": 1528969107940,
          "user_tz": -120,
          "elapsed": 1031,
          "user": {
            "displayName": "",
            "photoUrl": "",
            "userId": ""
          }
        }
      },
      "cell_type": "code",
      "source": [
        "import numpy as np\n",
        "import matplotlib.pyplot as plt\n",
        "import pandas as pd\n",
        "%matplotlib inline"
      ],
      "execution_count": 11,
      "outputs": []
    },
    {
      "metadata": {
        "id": "YnZrCOZVMWI3",
        "colab_type": "code",
        "colab": {
          "autoexec": {
            "startup": false,
            "wait_interval": 0
          },
          "base_uri": "https://localhost:8080/",
          "height": 17
        },
        "outputId": "764763e6-f0a2-4b21-ad18-e422c91458e0",
        "executionInfo": {
          "status": "ok",
          "timestamp": 1528969108884,
          "user_tz": -120,
          "elapsed": 831,
          "user": {
            "displayName": "",
            "photoUrl": "",
            "userId": ""
          }
        }
      },
      "cell_type": "code",
      "source": [
        "#  Training Parameters\n",
        "learning_rate = 1e-1\n",
        "training_epochs = 2000\n",
        "display_step = 200"
      ],
      "execution_count": 12,
      "outputs": []
    },
    {
      "metadata": {
        "id": "Hb9k9hjLMWI5",
        "colab_type": "code",
        "colab": {
          "autoexec": {
            "startup": false,
            "wait_interval": 0
          },
          "base_uri": "https://localhost:8080/",
          "height": 299
        },
        "outputId": "1dbf5fa5-78c5-45db-e6b3-05920efc6aef",
        "executionInfo": {
          "status": "ok",
          "timestamp": 1528969109995,
          "user_tz": -120,
          "elapsed": 1005,
          "user": {
            "displayName": "",
            "photoUrl": "",
            "userId": ""
          }
        }
      },
      "cell_type": "code",
      "source": [
        "# Load data. Advertising dataset from \"An Introduction to Statistical Learning\",\n",
        "# textbook by Gareth James, Robert Tibshirani, and Trevor Hastie \n",
        "import numpy as np\n",
        "data = pd.read_csv('https://raw.githubusercontent.com/DataScienceUB/DeepLearningfromScratch2017/master/dataset/Advertising.csv',index_col=0, delimiter=',')\n",
        "train_X = data[['TV']].values \n",
        "\n",
        "train_Y = data.Sales.values \n",
        "train_Y = train_Y[:,np.newaxis]\n",
        "\n",
        "n_samples = train_X.shape[0]\n",
        "print n_samples\n",
        "print train_X.shape, train_Y.shape\n",
        "plt.plot(train_X, train_Y, 'ro', label='Original data')\n",
        "plt.show()"
      ],
      "execution_count": 13,
      "outputs": [
        {
          "output_type": "stream",
          "text": [
            "200\n",
            "(200, 1) (200, 1)\n"
          ],
          "name": "stdout"
        },
        {
          "output_type": "display_data",
          "data": {
            "image/png": "[encoded data removed]",
            "text/plain": [
              "<matplotlib.figure.Figure at 0x7fc5c54be090>"
            ]
          },
          "metadata": {
            "tags": []
          }
        }
      ]
    },
    {
      "metadata": {
        "id": "fXYH9klJMWI9",
        "colab_type": "code",
        "colab": {
          "autoexec": {
            "startup": false,
            "wait_interval": 0
          },
          "base_uri": "https://localhost:8080/",
          "height": 17
        },
        "outputId": "e4b2664d-be04-41ab-cb53-3060ebb9ee41",
        "executionInfo": {
          "status": "ok",
          "timestamp": 1528969111093,
          "user_tz": -120,
          "elapsed": 1012,
          "user": {
            "displayName": "",
            "photoUrl": "",
            "userId": ""
          }
        }
      },
      "cell_type": "code",
      "source": [
        "import tensorflow as tf\n",
        "# Define tf Graph Inputs\n",
        "X = tf.placeholder(\"float\",[None,1])\n",
        "y = tf.placeholder(\"float\",[None,1])\n",
        "\n",
        "# Create Model variables \n",
        "# Set model weights\n",
        "W = tf.Variable(np.random.randn(), name=\"weight\")\n",
        "b = tf.Variable(np.random.randn(), name=\"bias\")\n",
        "\n",
        "# Construct a linear model\n",
        "y_pred = tf.add(tf.multiply(X, W), b)\n",
        "\n",
        "# Minimize the squared errors\n",
        "cost = tf.reduce_sum(tf.pow(y_pred-y,2))/(n_samples) #L2 loss\n",
        "\n",
        "# Define the optimizer\n",
        "optimizer = tf.train.AdamOptimizer(learning_rate).minimize(cost) #Gradient descent"
      ],
      "execution_count": 14,
      "outputs": []
    },
    {
      "metadata": {
        "id": "q1ugxGZhMWI_",
        "colab_type": "code",
        "colab": {
          "autoexec": {
            "startup": false,
            "wait_interval": 0
          },
          "base_uri": "https://localhost:8080/",
          "height": 469
        },
        "outputId": "f9e499a0-bf05-4ef6-c35b-95043f4d98a6",
        "executionInfo": {
          "status": "ok",
          "timestamp": 1528969113930,
          "user_tz": -120,
          "elapsed": 2718,
          "user": {
            "displayName": "",
            "photoUrl": "",
            "userId": ""
          }
        }
      },
      "cell_type": "code",
      "source": [
        "# Initializing the variables\n",
        "init = tf.global_variables_initializer()\n",
        "# Launch the graph\n",
        "with tf.Session() as sess:\n",
        "    sess.run(init)\n",
        "\n",
        "    # Fit all training data\n",
        "    for epoch in range(training_epochs):\n",
        "        sess.run(optimizer, feed_dict={X: train_X, y: train_Y})       \n",
        "\n",
        "        #Display logs per epoch step\n",
        "        if epoch % display_step == 0:\n",
        "            print \"Epoch:\", '%04d' % (epoch+1), \"cost=\", \\\n",
        "                \"{:.9f}\".format(sess.run(cost, feed_dict={X: train_X, y:train_Y})), \\\n",
        "                \"W=\", sess.run(W), \"b=\", sess.run(b)\n",
        "\n",
        "    print \"Optimization Finished!\"\n",
        "    print \"cost=\", sess.run(cost, feed_dict={X: train_X, y: train_Y}), \\\n",
        "          \"W=\", sess.run(W), \"b=\", sess.run(b)\n",
        "\n",
        "    #Graphic display\n",
        "    plt.plot(train_X, train_Y, 'ro', label='Original data')\n",
        "    plt.plot(train_X, sess.run(W) * train_X + sess.run(b), label='Fitted line')\n",
        "    plt.legend()\n",
        "    plt.show()"
      ],
      "execution_count": 15,
      "outputs": [
        {
          "output_type": "stream",
          "text": [
            "Epoch: 0001 cost= 9454.903320312 W= -0.49233034 b= 0.93602836\n",
            "Epoch: 0201 cost= 15.213056564 W= 0.06944617 b= 2.724759\n",
            "Epoch: 0401 cost= 12.311044693 W= 0.061090976 b= 4.367986\n",
            "Epoch: 0601 cost= 10.993334770 W= 0.054544155 b= 5.6550035\n",
            "Epoch: 0801 cost= 10.603803635 W= 0.05058813 b= 6.4327087\n",
            "Epoch: 1001 cost= 10.524839401 W= 0.048652414 b= 6.8132467\n",
            "Epoch: 1201 cost= 10.513781548 W= 0.04787619 b= 6.9658427\n",
            "Epoch: 1401 cost= 10.512723923 W= 0.047621492 b= 7.0159125\n",
            "Epoch: 1601 cost= 10.512657166 W= 0.04755375 b= 7.02923\n",
            "Epoch: 1801 cost= 10.512653351 W= 0.047539372 b= 7.0320573\n",
            "Optimization Finished!\n",
            "cost= 10.512653 W= 0.04753697 b= 7.0325284\n"
          ],
          "name": "stdout"
        },
        {
          "output_type": "display_data",
          "data": {
            "image/png": "[encoded data removed]",
            "text/plain": [
              "<matplotlib.figure.Figure at 0x7fc5bacfadd0>"
            ]
          },
          "metadata": {
            "tags": []
          }
        }
      ]
    },
    {
      "metadata": {
        "id": "IWFE0DscMWJC",
        "colab_type": "text"
      },
      "cell_type": "markdown",
      "source": [
        "### Multiple Linear Regression\n",
        "Let's use three features as input vector : TV,Radio,Newspaper"
      ]
    },
    {
      "metadata": {
        "id": "5hqjoRy0MWJC",
        "colab_type": "code",
        "colab": {
          "autoexec": {
            "startup": false,
            "wait_interval": 0
          },
          "base_uri": "https://localhost:8080/",
          "height": 17
        },
        "outputId": "682b3a93-b13e-4596-bf4d-c440ac2a9bc6",
        "executionInfo": {
          "status": "ok",
          "timestamp": 1528969115028,
          "user_tz": -120,
          "elapsed": 1040,
          "user": {
            "displayName": "",
            "photoUrl": "",
            "userId": ""
          }
        }
      },
      "cell_type": "code",
      "source": [
        "# Parameters\n",
        "learning_rate = 1e-2\n",
        "training_epochs = 2000\n",
        "display_step = 200"
      ],
      "execution_count": 16,
      "outputs": []
    },
    {
      "metadata": {
        "id": "nEOeXulQMWJE",
        "colab_type": "code",
        "colab": {
          "autoexec": {
            "startup": false,
            "wait_interval": 0
          },
          "base_uri": "https://localhost:8080/",
          "height": 51
        },
        "outputId": "520b9f95-257d-4ad3-9da4-063a8392e93d",
        "executionInfo": {
          "status": "ok",
          "timestamp": 1528969117015,
          "user_tz": -120,
          "elapsed": 1885,
          "user": {
            "displayName": "",
            "photoUrl": "",
            "userId": ""
          }
        }
      },
      "cell_type": "code",
      "source": [
        "import numpy as np\n",
        "data = pd.read_csv('https://raw.githubusercontent.com/DataScienceUB/DeepLearningfromScratch2017/master/dataset/Advertising.csv',index_col=0, delimiter=',')\n",
        "train_X = data[['TV','Radio','Newspaper']].values\n",
        "train_Y = data.Sales.values \n",
        "train_Y = train_Y[:,np.newaxis]\n",
        "n_samples = train_X.shape[0]\n",
        "print n_samples\n",
        "print train_X.shape, train_Y.shape\n"
      ],
      "execution_count": 17,
      "outputs": [
        {
          "output_type": "stream",
          "text": [
            "200\n",
            "(200, 3) (200, 1)\n"
          ],
          "name": "stdout"
        }
      ]
    },
    {
      "metadata": {
        "id": "Gp1MDEAJMWJH",
        "colab_type": "code",
        "colab": {
          "autoexec": {
            "startup": false,
            "wait_interval": 0
          },
          "base_uri": "https://localhost:8080/",
          "height": 17
        },
        "outputId": "c1990625-12d6-4fde-d5a9-4c2b9e3ccb42",
        "executionInfo": {
          "status": "ok",
          "timestamp": 1528969117702,
          "user_tz": -120,
          "elapsed": 588,
          "user": {
            "displayName": "",
            "photoUrl": "",
            "userId": ""
          }
        }
      },
      "cell_type": "code",
      "source": [
        "# Define tf Graph Inputs\n",
        "X = tf.placeholder(\"float\",[None,3])\n",
        "y = tf.placeholder(\"float\",[None,1])\n",
        "\n",
        "# Create Model variables \n",
        "# Set model weights\n",
        "W = tf.Variable(tf.zeros([3, 1]),name=\"bias\")\n",
        "b = tf.Variable(np.random.randn(), name=\"bias\")\n",
        "\n",
        "# Construct a linear model\n",
        "y_pred = tf.matmul(X, W) + b"
      ],
      "execution_count": 18,
      "outputs": []
    },
    {
      "metadata": {
        "id": "RHY--sUfMWJJ",
        "colab_type": "code",
        "colab": {
          "autoexec": {
            "startup": false,
            "wait_interval": 0
          },
          "base_uri": "https://localhost:8080/",
          "height": 17
        },
        "outputId": "8111b393-2e22-42bc-892c-dc4061fd4f15",
        "executionInfo": {
          "status": "ok",
          "timestamp": 1528969118399,
          "user_tz": -120,
          "elapsed": 597,
          "user": {
            "displayName": "",
            "photoUrl": "",
            "userId": ""
          }
        }
      },
      "cell_type": "code",
      "source": [
        "# Minimize the squared errors\n",
        "cost = tf.reduce_sum(tf.pow(y_pred-y,2))/(2*n_samples) #L2 loss\n",
        "\n",
        "# Define the optimizer\n",
        "optimizer = tf.train.AdamOptimizer(learning_rate).minimize(cost) #Gradient descent"
      ],
      "execution_count": 19,
      "outputs": []
    },
    {
      "metadata": {
        "id": "zUCPPqt7MWJM",
        "colab_type": "code",
        "colab": {
          "autoexec": {
            "startup": false,
            "wait_interval": 0
          },
          "base_uri": "https://localhost:8080/",
          "height": 595
        },
        "outputId": "6b43f222-383f-406f-e206-4fc995f25b90",
        "executionInfo": {
          "status": "ok",
          "timestamp": 1528969120031,
          "user_tz": -120,
          "elapsed": 1531,
          "user": {
            "displayName": "",
            "photoUrl": "",
            "userId": ""
          }
        }
      },
      "cell_type": "code",
      "source": [
        "# Initializing the variables\n",
        "init = tf.global_variables_initializer()\n",
        "# Launch the graph\n",
        "with tf.Session() as sess:\n",
        "    sess.run(init)\n",
        "\n",
        "    # Fit all training data\n",
        "    for epoch in range(training_epochs):\n",
        "        sess.run(optimizer, feed_dict={X: train_X, y: train_Y})\n",
        "        \n",
        "        #Display logs per epoch step\n",
        "        if epoch % display_step == 0:\n",
        "            print \"Epoch:\", '%04d' % (epoch+1), \"cost=\", \\\n",
        "                \"{:.9f}\".format(sess.run(cost, feed_dict={X: train_X, y:train_Y})), \\\n",
        "                \"W=\", sess.run(W), \"b=\", sess.run(b)\n",
        "\n",
        "    print \"Optimization Finished!\"\n",
        "    print \"cost=\", sess.run(cost, feed_dict={X: train_X, y: train_Y}), \\\n",
        "          \"W=\", sess.run(W), \"b=\", sess.run(b)\n",
        "    "
      ],
      "execution_count": 20,
      "outputs": [
        {
          "output_type": "stream",
          "text": [
            "Epoch: 0001 cost= 86.326835632 W= [[0.01]\n",
            " [0.01]\n",
            " [0.01]] b= -0.35885254\n",
            "Epoch: 0201 cost= 2.007852077 W= [[0.05367266]\n",
            " [0.22218329]\n",
            " [0.01653813]] b= 0.03463026\n",
            "Epoch: 0401 cost= 1.816062450 W= [[0.05232672]\n",
            " [0.21644714]\n",
            " [0.01354946]] b= 0.52897114\n",
            "Epoch: 0601 cost= 1.649169564 W= [[0.05087486]\n",
            " [0.21026522]\n",
            " [0.01032231]] b= 1.0622686\n",
            "Epoch: 0801 cost= 1.530633807 W= [[0.0495164 ]\n",
            " [0.20448473]\n",
            " [0.00730258]] b= 1.5611866\n",
            "Epoch: 1001 cost= 1.458390474 W= [[0.04836035]\n",
            " [0.19956744]\n",
            " [0.00473274]] b= 1.9857281\n",
            "Epoch: 1201 cost= 1.420098186 W= [[0.04745222]\n",
            " [0.19570553]\n",
            " [0.002714  ]] b= 2.3192055\n",
            "Epoch: 1401 cost= 1.402437091 W= [[0.04679121]\n",
            " [0.19289485]\n",
            " [0.00124457]] b= 2.5619335\n",
            "Epoch: 1601 cost= 1.395387888 W= [[0.04634581]\n",
            " [0.19100101]\n",
            " [0.00025444]] b= 2.7254863\n",
            "Epoch: 1801 cost= 1.392974496 W= [[ 0.04606894]\n",
            " [ 0.18982378]\n",
            " [-0.00036105]] b= 2.827155\n",
            "Optimization Finished!\n",
            "cost= 1.3922757 W= [[ 0.04591151]\n",
            " [ 0.18915443]\n",
            " [-0.00071103]] b= 2.8849626\n"
          ],
          "name": "stdout"
        }
      ]
    },
    {
      "metadata": {
        "id": "umIU80meMWJO",
        "colab_type": "code",
        "colab": {
          "autoexec": {
            "startup": false,
            "wait_interval": 0
          },
          "base_uri": "https://localhost:8080/",
          "height": 17
        },
        "outputId": "d28e771b-15f4-45f0-d68c-2d02cae51c83",
        "executionInfo": {
          "status": "ok",
          "timestamp": 1528969121038,
          "user_tz": -120,
          "elapsed": 945,
          "user": {
            "displayName": "",
            "photoUrl": "",
            "userId": ""
          }
        }
      },
      "cell_type": "code",
      "source": [
        ""
      ],
      "execution_count": 20,
      "outputs": []
    }
  ]
}